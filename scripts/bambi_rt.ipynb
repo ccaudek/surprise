{
 "cells": [
  {
   "cell_type": "code",
   "execution_count": 1,
   "metadata": {},
   "outputs": [],
   "source": [
    "import numpy as np\n",
    "import pandas as pd\n",
    "import matplotlib.pyplot as plt\n",
    "import seaborn as sns\n",
    "import arviz as az\n",
    "import bambi as bmb\n",
    "import xarray as xr\n",
    "import arviz as az\n",
    "import warnings\n",
    "\n",
    "warnings.filterwarnings(\"ignore\", category=UserWarning)\n",
    "warnings.filterwarnings(\"ignore\", category=FutureWarning)\n",
    "warnings.filterwarnings(\"ignore\", category=Warning)"
   ]
  },
  {
   "cell_type": "code",
   "execution_count": 2,
   "metadata": {},
   "outputs": [],
   "source": [
    "%config InlineBackend.figure_format = 'retina'\n",
    "RANDOM_SEED = 42\n",
    "rng = np.random.default_rng(RANDOM_SEED)\n",
    "az.style.use(\"arviz-viridish\")"
   ]
  },
  {
   "cell_type": "code",
   "execution_count": 3,
   "metadata": {},
   "outputs": [
    {
     "data": {
      "text/html": [
       "<div>\n",
       "<style scoped>\n",
       "    .dataframe tbody tr th:only-of-type {\n",
       "        vertical-align: middle;\n",
       "    }\n",
       "\n",
       "    .dataframe tbody tr th {\n",
       "        vertical-align: top;\n",
       "    }\n",
       "\n",
       "    .dataframe thead th {\n",
       "        text-align: right;\n",
       "    }\n",
       "</style>\n",
       "<table border=\"1\" class=\"dataframe\">\n",
       "  <thead>\n",
       "    <tr style=\"text-align: right;\">\n",
       "      <th></th>\n",
       "      <th>subj_name</th>\n",
       "      <th>rt</th>\n",
       "      <th>zrt</th>\n",
       "      <th>CT</th>\n",
       "      <th>SC</th>\n",
       "      <th>BL</th>\n",
       "      <th>BF</th>\n",
       "      <th>subj_id</th>\n",
       "      <th>movie_id</th>\n",
       "      <th>lrt</th>\n",
       "    </tr>\n",
       "  </thead>\n",
       "  <tbody>\n",
       "    <tr>\n",
       "      <th>0</th>\n",
       "      <td>1</td>\n",
       "      <td>728</td>\n",
       "      <td>0.037347</td>\n",
       "      <td>Congruent</td>\n",
       "      <td>Surprise</td>\n",
       "      <td>1</td>\n",
       "      <td>1</td>\n",
       "      <td>1</td>\n",
       "      <td>9_effect.mov</td>\n",
       "      <td>-3.287507</td>\n",
       "    </tr>\n",
       "    <tr>\n",
       "      <th>1</th>\n",
       "      <td>1</td>\n",
       "      <td>1178</td>\n",
       "      <td>1.770961</td>\n",
       "      <td>Congruent</td>\n",
       "      <td>Surprise</td>\n",
       "      <td>1</td>\n",
       "      <td>1</td>\n",
       "      <td>1</td>\n",
       "      <td>3_effect.mov</td>\n",
       "      <td>0.571522</td>\n",
       "    </tr>\n",
       "    <tr>\n",
       "      <th>2</th>\n",
       "      <td>1</td>\n",
       "      <td>1062</td>\n",
       "      <td>1.324074</td>\n",
       "      <td>Congruent</td>\n",
       "      <td>Surprise</td>\n",
       "      <td>1</td>\n",
       "      <td>1</td>\n",
       "      <td>1</td>\n",
       "      <td>8_effect.mov</td>\n",
       "      <td>0.280713</td>\n",
       "    </tr>\n",
       "    <tr>\n",
       "      <th>3</th>\n",
       "      <td>1</td>\n",
       "      <td>795</td>\n",
       "      <td>0.295463</td>\n",
       "      <td>Congruent</td>\n",
       "      <td>Surprise</td>\n",
       "      <td>1</td>\n",
       "      <td>1</td>\n",
       "      <td>1</td>\n",
       "      <td>7_effect.mov</td>\n",
       "      <td>-1.219213</td>\n",
       "    </tr>\n",
       "    <tr>\n",
       "      <th>4</th>\n",
       "      <td>1</td>\n",
       "      <td>444</td>\n",
       "      <td>-1.056756</td>\n",
       "      <td>Congruent</td>\n",
       "      <td>No Surprise</td>\n",
       "      <td>1</td>\n",
       "      <td>1</td>\n",
       "      <td>1</td>\n",
       "      <td>2_noeffect.mov</td>\n",
       "      <td>NaN</td>\n",
       "    </tr>\n",
       "  </tbody>\n",
       "</table>\n",
       "</div>"
      ],
      "text/plain": [
       "   subj_name    rt       zrt         CT           SC  BL  BF  subj_id  \\\n",
       "0          1   728  0.037347  Congruent     Surprise   1   1        1   \n",
       "1          1  1178  1.770961  Congruent     Surprise   1   1        1   \n",
       "2          1  1062  1.324074  Congruent     Surprise   1   1        1   \n",
       "3          1   795  0.295463  Congruent     Surprise   1   1        1   \n",
       "4          1   444 -1.056756  Congruent  No Surprise   1   1        1   \n",
       "\n",
       "         movie_id       lrt  \n",
       "0    9_effect.mov -3.287507  \n",
       "1    3_effect.mov  0.571522  \n",
       "2    8_effect.mov  0.280713  \n",
       "3    7_effect.mov -1.219213  \n",
       "4  2_noeffect.mov       NaN  "
      ]
     },
     "execution_count": 3,
     "metadata": {},
     "output_type": "execute_result"
    }
   ],
   "source": [
    "dat = pd.read_csv(\"surprise_correct_data.csv\")\n",
    "dat.head()"
   ]
  },
  {
   "cell_type": "code",
   "execution_count": 4,
   "metadata": {},
   "outputs": [],
   "source": [
    "# surprise_cor_df = dat.loc[dat[\"experiment\"] == \"surprise\"]\n",
    "# surprise_cor_df.shape"
   ]
  },
  {
   "cell_type": "code",
   "execution_count": 13,
   "metadata": {},
   "outputs": [],
   "source": [
    "mean = surprise_cor_df[\"rtTukey\"].mean(skipna=True)\n",
    "std = surprise_cor_df[\"rtTukey\"].std(skipna=True)\n",
    "\n",
    "surprise_cor_df[\"zrt\"] = (surprise_cor_df[\"rtTukey\"] - mean) / std"
   ]
  },
  {
   "cell_type": "markdown",
   "metadata": {},
   "source": [
    "bf(zrt ~ is_congruent_trial * is_surprise_clip * blk +\n",
    "       (1 + is_congruent_trial * blk | subj_id) +\n",
    "       (1 | movie_id)\n",
    "  ), "
   ]
  },
  {
   "cell_type": "code",
   "execution_count": 31,
   "metadata": {},
   "outputs": [
    {
     "data": {
      "text/plain": [
       "(35609, 6)"
      ]
     },
     "execution_count": 31,
     "metadata": {},
     "output_type": "execute_result"
    }
   ],
   "source": [
    "d = surprise_cor_df[\n",
    "    [\"zrt\", \"is_congruent_trial\", \"is_surprise_clip\", \"block\", \"subj_id\", \"movie_id\"]\n",
    "]\n",
    "df = d.dropna()\n",
    "df.shape"
   ]
  },
  {
   "cell_type": "code",
   "execution_count": 6,
   "metadata": {},
   "outputs": [],
   "source": [
    "m1 = bmb.Model(\n",
    "    \"zrt ~ CT * SC * BF + (1 + CT * SC * BF | subj_id) + (1 | movie_id)\",\n",
    "    dat,\n",
    "    categorical=\"BF\",\n",
    "    family=\"asymmetriclaplace\"\n",
    ")"
   ]
  },
  {
   "cell_type": "code",
   "execution_count": null,
   "metadata": {},
   "outputs": [],
   "source": [
    "fit1 = m1.fit(method=\"nuts_numpyro\", idata_kwargs={\"log_likelihood\": True})"
   ]
  },
  {
   "cell_type": "code",
   "execution_count": null,
   "metadata": {},
   "outputs": [],
   "source": [
    "az.plot_trace(fit1)"
   ]
  }
 ],
 "metadata": {
  "kernelspec": {
   "display_name": "pymc_env",
   "language": "python",
   "name": "python3"
  },
  "language_info": {
   "codemirror_mode": {
    "name": "ipython",
    "version": 3
   },
   "file_extension": ".py",
   "mimetype": "text/x-python",
   "name": "python",
   "nbconvert_exporter": "python",
   "pygments_lexer": "ipython3",
   "version": "3.11.5"
  }
 },
 "nbformat": 4,
 "nbformat_minor": 2
}
